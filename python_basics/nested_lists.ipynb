{
  "nbformat": 4,
  "nbformat_minor": 0,
  "metadata": {
    "colab": {
      "name": "nested_lists.ipynb",
      "provenance": [],
      "authorship_tag": "ABX9TyPCb3DGeWwSZmwdQuDy121Z",
      "include_colab_link": true
    },
    "kernelspec": {
      "name": "python3",
      "display_name": "Python 3"
    },
    "language_info": {
      "name": "python"
    }
  },
  "cells": [
    {
      "cell_type": "markdown",
      "metadata": {
        "id": "view-in-github",
        "colab_type": "text"
      },
      "source": [
        "<a href=\"https://colab.research.google.com/github/ajshepp/coursework/blob/main/python_basics/nested_lists.ipynb\" target=\"_parent\"><img src=\"https://colab.research.google.com/assets/colab-badge.svg\" alt=\"Open In Colab\"/></a>"
      ]
    },
    {
      "cell_type": "code",
      "metadata": {
        "colab": {
          "base_uri": "https://localhost:8080/"
        },
        "id": "sxtBm_8Nj7Tp",
        "outputId": "d851ebd1-d3e8-458e-9c4f-41c9ab94d24c"
      },
      "source": [
        "print('hello colab')"
      ],
      "execution_count": 1,
      "outputs": [
        {
          "output_type": "stream",
          "text": [
            "hello colab\n"
          ],
          "name": "stdout"
        }
      ]
    }
  ]
}