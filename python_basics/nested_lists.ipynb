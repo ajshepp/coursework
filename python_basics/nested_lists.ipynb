{
  "nbformat": 4,
  "nbformat_minor": 0,
  "metadata": {
    "colab": {
      "name": "nested_lists.ipynb",
      "provenance": [],
      "authorship_tag": "ABX9TyOZk2fzHFXJPqJ6TeBvVO6v",
      "include_colab_link": true
    },
    "kernelspec": {
      "name": "python3",
      "display_name": "Python 3"
    },
    "language_info": {
      "name": "python"
    }
  },
  "cells": [
    {
      "cell_type": "markdown",
      "metadata": {
        "id": "view-in-github",
        "colab_type": "text"
      },
      "source": [
        "<a href=\"https://colab.research.google.com/github/ajshepp/coursework/blob/main/python_basics/nested_lists.ipynb\" target=\"_parent\"><img src=\"https://colab.research.google.com/assets/colab-badge.svg\" alt=\"Open In Colab\"/></a>"
      ]
    },
    {
      "cell_type": "code",
      "metadata": {
        "id": "sxtBm_8Nj7Tp"
      },
      "source": [
        "#following lesson to focus on nested lists"
      ],
      "execution_count": 2,
      "outputs": []
    }
  ]
}