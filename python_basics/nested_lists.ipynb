{
  "nbformat": 4,
  "nbformat_minor": 0,
  "metadata": {
    "colab": {
      "name": "nested_lists.ipynb",
      "provenance": [],
      "authorship_tag": "ABX9TyMrkAkexqKxqXl/FMlieoyV",
      "include_colab_link": true
    },
    "kernelspec": {
      "name": "python3",
      "display_name": "Python 3"
    },
    "language_info": {
      "name": "python"
    }
  },
  "cells": [
    {
      "cell_type": "markdown",
      "metadata": {
        "id": "view-in-github",
        "colab_type": "text"
      },
      "source": [
        "<a href=\"https://colab.research.google.com/github/ajshepp/coursework/blob/main/python_basics/nested_lists.ipynb\" target=\"_parent\"><img src=\"https://colab.research.google.com/assets/colab-badge.svg\" alt=\"Open In Colab\"/></a>"
      ]
    },
    {
      "cell_type": "code",
      "metadata": {
        "id": "sxtBm_8Nj7Tp",
        "colab": {
          "base_uri": "https://localhost:8080/"
        },
        "outputId": "ecc18e40-2fbf-40a9-c541-e65b325f9799"
      },
      "source": [
        "#create a new matrix\n",
        "#populate so that every value returns i x j\n",
        "#apend means \"add to the end of the list\"\n",
        "\n",
        "n = 3\n",
        "matrix = []\n",
        "# print(matrix) #this prints:  \"[]\"\n",
        "\n",
        "for i in range(n):\n",
        "  matrix.append([]) #this adds an empty list\n",
        "# print(matrix)       #this prints:  [[],[],[],[],[]]      (adds lists to a list)\n",
        "\n",
        "  for j in range(n): \n",
        "    matrix[i].append(i * j)\n",
        "print(matrix[1])\n",
        "\n",
        "### PRINT ###########################\n",
        "# for i in range(n):\n",
        "#   print(matrix[i])\n"
      ],
      "execution_count": 2,
      "outputs": [
        {
          "output_type": "stream",
          "text": [
            "[0, 1, 2]\n"
          ],
          "name": "stdout"
        }
      ]
    },
    {
      "cell_type": "code",
      "metadata": {
        "id": "wOJioL5LlMro"
      },
      "source": [
        "n = 3\n",
        "matrix = []\n",
        "#print(matrix)                #prints:  \"[]\"\n",
        "\n",
        "for i in range(n):            #for loop cycles through each individual list\n",
        "  matrix.append([])           #adds empty list within matrix\n",
        "\n",
        "  for j in range(n):          #2nd loop cycles through invidividual elements of individual lists\n",
        "    matrix[i].append(i * j)   #for each list multiply every list element by j\n",
        "print(matrix[1])              #print ____?"
      ],
      "execution_count": null,
      "outputs": []
    },
    {
      "cell_type": "code",
      "metadata": {
        "colab": {
          "base_uri": "https://localhost:8080/"
        },
        "id": "c1v-uOahmZ_M",
        "outputId": "d750d631-6715-4084-c5fd-38e9e159aa7c"
      },
      "source": [
        "#python nested list example\n",
        "#a list can contain any sort object, even another list (sublist), which in turn can contain sublists themselves\n",
        "#this is known as a \"nested list\"\n",
        "#source:  https://www.learnbyexample.org/python-nested-list/\n",
        "\n",
        "nested_list = [1, 2, [3, 4], [5, 6, [7, 8], 9], 10]\n",
        "\n",
        "print(nested_list[0])   #prints  \"1\"\n",
        "print(nested_list[1])   #prints  \"2\"\n",
        "print(nested_list[2])   #prints  \"[3, 4]\"\n",
        "print(nested_list[3])   #prints  \"[5, 6, [7, 8], 9]\"\n",
        "print(nested_list[4])   #prints  \"10\"\n",
        "\n",
        "print(nested_list[0])\n",
        "print(nested_list[1])\n",
        "print('')\n",
        "print(nested_list[2])\n",
        "print(nested_list[2][0])\n",
        "print(nested_list[2][1])\n",
        "print('')\n",
        "print(nested_list[3])\n",
        "print(nested_list[3][0])\n",
        "print(nested_list[3][1])\n",
        "print('')\n",
        "print(nested_list[3][2])\n",
        "print(nested_list[3][2][0])\n",
        "print(nested_list[3][2][1])\n",
        "print('')\n",
        "print(nested_list[3][3])\n",
        "print('')\n",
        "print(nested_list[4])"
      ],
      "execution_count": 41,
      "outputs": [
        {
          "output_type": "stream",
          "text": [
            "1\n",
            "2\n",
            "[3, 4]\n",
            "[5, 6, [7, 8], 9]\n",
            "10\n",
            "1\n",
            "2\n",
            "\n",
            "[3, 4]\n",
            "3\n",
            "4\n",
            "\n",
            "[5, 6, [7, 8], 9]\n",
            "5\n",
            "6\n",
            "\n",
            "[7, 8]\n",
            "7\n",
            "8\n",
            "\n",
            "9\n",
            "\n",
            "10\n"
          ],
          "name": "stdout"
        }
      ]
    }
  ]
}